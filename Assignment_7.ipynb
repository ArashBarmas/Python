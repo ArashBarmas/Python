{
 "cells": [
  {
   "cell_type": "code",
   "execution_count": 3,
   "metadata": {},
   "outputs": [],
   "source": [
    "import numpy as np\n",
    "sr = 44100   # stands for sample rate; 44100 is standard\n",
    "d = 4        # stands for duration; 4 seconds\n",
    "t = np.linspace(0, d, sr * d, endpoint = False)\n",
    "# this takes sr * d equally spaced points\n",
    "# between 0 and d (excluding d)\n",
    "x = np.sin(2 * np.pi * 440 * t)\n",
    "y = np.sin(2 * np.pi * 554.37 * t)\n",
    "z = np.sin(2 * np.pi * 659 * t)\n",
    "w = x+y+z\n",
    "w = np.append(x,y)# play after another\n",
    "# the continuous signal is x(t) = sin(2pi * 440 * t)"
   ]
  },
  {
   "cell_type": "code",
   "execution_count": 4,
   "metadata": {},
   "outputs": [],
   "source": [
    "data = (2**15 - 1) * w / np.max(np.abs(w))\n",
    "data = data.astype(np.int16)\n",
    "import scipy.io.wavfile as spwav\n",
    "spwav.write('440m.wav', sr, data)"
   ]
  },
  {
   "cell_type": "code",
   "execution_count": 2,
   "metadata": {},
   "outputs": [],
   "source": [
    "# Assignment7 \n",
    "import scipy.io.wavfile\n",
    "import scipy.fftpack \n",
    "import numpy as np\n",
    "import matplotlib.pyplot as plt\n",
    "%matplotlib inline"
   ]
  },
  {
   "cell_type": "code",
   "execution_count": 20,
   "metadata": {},
   "outputs": [
    {
     "name": "stdout",
     "output_type": "stream",
     "text": [
      "<type 'numpy.ndarray'>\n"
     ]
    }
   ],
   "source": [
    "# Question 1\n",
    "# Read the wav file, convert it to numpy array\n",
    "# data is by defualt a numpy array\n",
    "sample_rate, data = scipy.io.wavfile.read(\"tuning.wav\")\n",
    "print type(data)"
   ]
  },
  {
   "cell_type": "code",
   "execution_count": 22,
   "metadata": {},
   "outputs": [
    {
     "name": "stdout",
     "output_type": "stream",
     "text": [
      "(1411200,)\n"
     ]
    }
   ],
   "source": [
    "print data.shape"
   ]
  },
  {
   "cell_type": "code",
   "execution_count": 23,
   "metadata": {},
   "outputs": [
    {
     "name": "stdout",
     "output_type": "stream",
     "text": [
      "1411200\n"
     ]
    }
   ],
   "source": [
    "data_fft = scipy.fftpack.fft(data)\n",
    "print len(data_fft)"
   ]
  },
  {
   "cell_type": "code",
   "execution_count": 25,
   "metadata": {},
   "outputs": [],
   "source": [
    "# make even frequencies to zero\n",
    "mask = np.arange(1411200)%2 == 1 \n",
    "data_fft[mask] = 0"
   ]
  },
  {
   "cell_type": "code",
   "execution_count": 26,
   "metadata": {},
   "outputs": [],
   "source": [
    "# perfomr ifft\n",
    "data_ifft = scipy.fftpack.ifft(data_fft)"
   ]
  },
  {
   "cell_type": "code",
   "execution_count": 27,
   "metadata": {},
   "outputs": [],
   "source": [
    "# normalizing the data_ifft\n",
    "data_ifft = (2**15 - 1) * data_ifft / np.max(np.abs(data_ifft))"
   ]
  },
  {
   "cell_type": "code",
   "execution_count": 28,
   "metadata": {},
   "outputs": [
    {
     "data": {
      "image/png": "[encoded data removed]",
      "text/plain": [
       "<Figure size 432x288 with 1 Axes>"
      ]
     },
     "metadata": {
      "needs_background": "light"
     },
     "output_type": "display_data"
    }
   ],
   "source": [
    "freq = scipy.fftpack.fftfreq(len(data), d=1/44100.0)\n",
    "plt.plot(freq, np.abs(data_fft))\n",
    "plt.show()"
   ]
  },
  {
   "cell_type": "code",
   "execution_count": 23,
   "metadata": {},
   "outputs": [
    {
     "data": {
      "image/png": "[encoded data removed]",
      "text/plain": [
       "<Figure size 432x288 with 1 Axes>"
      ]
     },
     "metadata": {
      "needs_background": "light"
     },
     "output_type": "display_data"
    }
   ],
   "source": [
    "freq = scipy.fftpack.fftfreq(len(data), d=1/44100.0)\n",
    "plt.plot(freq, np.abs(data_ifft))\n",
    "plt.show()"
   ]
  },
  {
   "cell_type": "code",
   "execution_count": 24,
   "metadata": {},
   "outputs": [
    {
     "name": "stderr",
     "output_type": "stream",
     "text": [
      "/anaconda3/envs/PIC16/lib/python2.7/site-packages/ipykernel_launcher.py:2: ComplexWarning: Casting complex values to real discards the imaginary part\n",
      "  \n"
     ]
    }
   ],
   "source": [
    "sr = 44100\n",
    "data = data_ifft.astype(np.int16)\n",
    "scipy.io.wavfile.write('assignment777.wav', sr, data)"
   ]
  },
  {
   "cell_type": "code",
   "execution_count": 1,
   "metadata": {},
   "outputs": [],
   "source": [
    "# Assignment7 \n",
    "import scipy.io.wavfile\n",
    "import scipy.fftpack \n",
    "import numpy as np\n",
    "import matplotlib.pyplot as plt\n",
    "%matplotlib inline"
   ]
  },
  {
   "cell_type": "code",
   "execution_count": 29,
   "metadata": {},
   "outputs": [
    {
     "data": {
      "text/plain": [
       "(8869012, 2)"
      ]
     },
     "execution_count": 29,
     "metadata": {},
     "output_type": "execute_result"
    }
   ],
   "source": [
    "# Question 2\n",
    "sample_rate, data = scipy.io.wavfile.read(\"euclid_nasty.wav\")\n",
    "length = len(data)\n",
    "data.shape"
   ]
  },
  {
   "cell_type": "code",
   "execution_count": 30,
   "metadata": {},
   "outputs": [],
   "source": [
    "data_fft = scipy.fftpack.fft(data, axis = 0)"
   ]
  },
  {
   "cell_type": "code",
   "execution_count": 6,
   "metadata": {},
   "outputs": [
    {
     "name": "stdout",
     "output_type": "stream",
     "text": [
      "[[       0.               +0.j\n",
      "         0.               +0.j        ]\n",
      " [       0.               +0.j\n",
      "         0.               +0.j        ]\n",
      " [       0.               +0.j\n",
      "         0.               +0.j        ]\n",
      " [       0.               +0.j\n",
      "         0.               +0.j        ]\n",
      " [       0.               +0.j\n",
      "         0.               +0.j        ]\n",
      " [39610295.48832484+46578231.59427755j\n",
      "  35617530.74484822+37952809.61572438j]\n",
      " [11860885.54487212+11350188.09310191j\n",
      "  12384967.47086246 +9084851.03058442j]\n",
      " [20988393.36899408-17587598.89787397j\n",
      "  19803329.83453973 -8816401.27180291j]\n",
      " [ 6840088.34077621 -1965068.30083074j\n",
      "   2468002.32366405 -5464490.2317245j ]\n",
      " [       0.               +0.j\n",
      "         0.               +0.j        ]]\n"
     ]
    }
   ],
   "source": [
    "print data_fft[0:10]"
   ]
  },
  {
   "cell_type": "code",
   "execution_count": 12,
   "metadata": {},
   "outputs": [
    {
     "data": {
      "image/png": "[encoded data removed]",
      "text/plain": [
       "<Figure size 432x288 with 1 Axes>"
      ]
     },
     "metadata": {
      "needs_background": "light"
     },
     "output_type": "display_data"
    }
   ],
   "source": [
    "data_copy = data_fft.copy()\n",
    "start = 12000\n",
    "length = 16384\n",
    "plt.plot(np.arange(length)/44100.0, np.abs(data_fft[start:start+length]))\n",
    "plt.show()"
   ]
  },
  {
   "cell_type": "code",
   "execution_count": 17,
   "metadata": {},
   "outputs": [
    {
     "data": {
      "image/png": "[encoded data removed]",
      "text/plain": [
       "<Figure size 432x288 with 1 Axes>"
      ]
     },
     "metadata": {
      "needs_background": "light"
     },
     "output_type": "display_data"
    }
   ],
   "source": [
    "freq = scipy.fftpack.fftfreq(len(data), d=1/44100.0)\n",
    "plt.plot(freq, np.abs(data_fft))\n",
    "\n",
    "plt.show()\n",
    "\n"
   ]
  },
  {
   "cell_type": "code",
   "execution_count": 19,
   "metadata": {},
   "outputs": [
    {
     "data": {
      "image/png": "[encoded data removed]",
      "text/plain": [
       "<Figure size 432x288 with 1 Axes>"
      ]
     },
     "metadata": {
      "needs_background": "light"
     },
     "output_type": "display_data"
    }
   ],
   "source": [
    "freq = scipy.fftpack.fftfreq(len(data), d=1/44100.0)\n",
    "plt.plot(freq, np.abs(data_fft))\n",
    "plt.axis([0,5000,0,6*10**9])\n",
    "plt.show()\n"
   ]
  },
  {
   "cell_type": "code",
   "execution_count": 31,
   "metadata": {},
   "outputs": [],
   "source": [
    "for i in range(8):\n",
    "    data_fft[np.argmax(np.abs(data_fft))]=0\n",
    "    \n",
    "    \n",
    "# for i in range(len(data_fft)):\n",
    "#     if np.abs(data_fft[i][0]) and np.abs(data_fft[i][1])> 4*(10**9):\n",
    "#         data_fft[i][0:2] = 0"
   ]
  },
  {
   "cell_type": "code",
   "execution_count": 6,
   "metadata": {},
   "outputs": [
    {
     "name": "stdout",
     "output_type": "stream",
     "text": [
      "<type 'numpy.ndarray'>\n"
     ]
    }
   ],
   "source": [
    "data_abs = np.abs(data)\n",
    "print type(data_abs)\n"
   ]
  },
  {
   "cell_type": "code",
   "execution_count": 32,
   "metadata": {},
   "outputs": [],
   "source": [
    "data_ifft = scipy.fftpack.ifft(data_fft)"
   ]
  },
  {
   "cell_type": "code",
   "execution_count": 33,
   "metadata": {},
   "outputs": [
    {
     "name": "stderr",
     "output_type": "stream",
     "text": [
      "/anaconda3/envs/PIC16/lib/python2.7/site-packages/ipykernel_launcher.py:2: ComplexWarning: Casting complex values to real discards the imaginary part\n",
      "  \n"
     ]
    }
   ],
   "source": [
    "sr = 44100\n",
    "data2 = data_ifft.astype(np.int16)\n",
    "scipy.io.wavfile.write('euclidnoissyyyyyyy.wav', sr, data2)"
   ]
  },
  {
   "cell_type": "code",
   "execution_count": null,
   "metadata": {},
   "outputs": [],
   "source": []
  }
 ],
 "metadata": {
  "kernelspec": {
   "display_name": "Python 2",
   "language": "python",
   "name": "python2"
  },
  "language_info": {
   "codemirror_mode": {
    "name": "ipython",
    "version": 2
   },
   "file_extension": ".py",
   "mimetype": "text/x-python",
   "name": "python",
   "nbconvert_exporter": "python",
   "pygments_lexer": "ipython2",
   "version": "2.7.15"
  }
 },
 "nbformat": 4,
 "nbformat_minor": 2
}
