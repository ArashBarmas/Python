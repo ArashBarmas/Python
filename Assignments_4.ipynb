{
 "cells": [
  {
   "cell_type": "code",
   "execution_count": 65,
   "metadata": {},
   "outputs": [],
   "source": [
    "class Node(object):\n",
    "    def __init__(self,data):\n",
    "        self.data = data\n",
    "        self.next = None\n",
    "    def __str__(self):\n",
    "        return str(self.data)\n",
    "    def __repr__(self):\n",
    "        return '{}'.format(self.data)\n",
    "    \n",
    "class LinkedList:\n",
    "    def __init__(self,arg = None):\n",
    "        self.first = Node(arg)\n",
    "        self.last = Node(arg)\n",
    "        self.current=self.first\n",
    "    def append(self,new_data):\n",
    "        new_node = Node(new_data)\n",
    "        self.last.next = new_node\n",
    "        self.last = new_node\n",
    "        #self.next= new_data.data\n",
    "        #new_data.next=None\n",
    "        #self.last= new_data\n",
    "    def __iter__(self):\n",
    "        return self\n",
    "    def next(self):\n",
    "        if self.current == None:\n",
    "            raise StopIteration\n",
    "        else:\n",
    "            temp = self.current.data \n",
    "            self.current = self.current.next\n",
    "            return temp\n",
    "        \n",
    "            \n",
    "           \n",
    "        \n",
    "        \n",
    "        #if self.last.next==None:\n",
    "            #raise StopIteration\n",
    "        #else:\n",
    "            #return self.last.next\n",
    "        #try:\n",
    "            #return self.first\n",
    "        #except:\n",
    "            #raise StopIteration()\n",
    "        \n",
    "    \n",
    "        \n",
    "        \n",
    "    "
   ]
  },
  {
   "cell_type": "code",
   "execution_count": 66,
   "metadata": {},
   "outputs": [],
   "source": [
    "LL = LinkedList()"
   ]
  },
  {
   "cell_type": "code",
   "execution_count": 67,
   "metadata": {},
   "outputs": [],
   "source": [
    "LL.append(\"Kaplan Hall?!?\")\n"
   ]
  },
  {
   "cell_type": "code",
   "execution_count": 68,
   "metadata": {},
   "outputs": [
    {
     "name": "stdout",
     "output_type": "stream",
     "text": [
      "None\n"
     ]
    }
   ],
   "source": [
    "LL.append([8,18])\n",
    "LL.append(88)\n",
    "for n in LL:\n",
    "           print n"
   ]
  },
  {
   "cell_type": "code",
   "execution_count": null,
   "metadata": {},
   "outputs": [],
   "source": []
  },
  {
   "cell_type": "code",
   "execution_count": null,
   "metadata": {},
   "outputs": [],
   "source": []
  }
 ],
 "metadata": {
  "kernelspec": {
   "display_name": "Python 2",
   "language": "python",
   "name": "python2"
  },
  "language_info": {
   "codemirror_mode": {
    "name": "ipython",
    "version": 2
   },
   "file_extension": ".py",
   "mimetype": "text/x-python",
   "name": "python",
   "nbconvert_exporter": "python",
   "pygments_lexer": "ipython2",
   "version": "2.7.15"
  }
 },
 "nbformat": 4,
 "nbformat_minor": 2
}
