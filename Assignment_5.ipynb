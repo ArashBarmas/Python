{
 "cells": [
  {
   "cell_type": "code",
   "execution_count": 15,
   "metadata": {},
   "outputs": [
    {
     "name": "stdout",
     "output_type": "stream",
     "text": [
      "'RIFF4\\\\\\x1d\\x02WAVEJUNK\\x1c\\x00\\x00\\x004\\\\\\x1d\\x02\\x00\\x00\\x00\\x00PR\\x1d\\x02\\x00\\x00\\x00\\x00\\x94T\\x87\\x00\\x00\\x00\\x00\\x00\\x00\\x00\\x00\\x00fmt \\x10\\x00\\x00\\x00\\x01\\x00\\x02\\x00D\\xac\\x00\\x00\\x10\\xb1\\x02\\x00\\x04\\x00\\x10\\x00dataPR\\x1d\\x02\\xff\\xff\\x00\\x00\\xff\\xff\\x00\\x00\\xff\\xff\\x00\\x00\\xff\\xff\\xff\\xff\\xff\\xff\\xff\\xff\\xff\\xff\\xff\\xff\\xff\\xff\\xff\\xff\\xff\\xff\\xff\\xff\\x00\\x00\\xff\\xff\\x00\\x00\\xff\\xff\\x00\\x00\\xff\\xff\\x00\\x00\\xff\\xff\\x00\\x00\\xff\\xff\\xff\\xff\\xff\\xff\\xff\\xff\\xff\\xff\\xfe\\xff\\xfe\\xff\\xfd\\xff\\xfd\\xff\\xfa\\xff\\xfa\\xff\\xf7\\xff\\xf7\\xff\\xf3\\xff\\xf3\\xff\\xee\\xff\\xee\\xff\\xe9\\xff\\xe9\\xff\\xe4\\xff\\xe4\\xff\\xdf\\xff\\xdf\\xff\\xda\\xff\\xda\\xff\\xd5\\xff\\xd5\\xff\\xd0\\xff\\xd0\\xff\\xcc\\xff\\xcc\\xff\\xc9\\xff\\xc9\\xff\\xc7\\xff\\xc6\\xff\\xc6\\xff\\xc4\\xff\\xc6\\xff\\xc2\\xff\\xc7\\xff\\xc1\\xff\\xca\\xff\\xc1\\xff\\xcd\\xff\\xc1\\xff\\xd0\\xff\\xc1\\xff\\xd2\\xff\\xc1\\xff\\xd2\\xff\\xc1\\xff\\xd1\\xff\\xc2\\xff\\xce\\xff\\xc3\\xff\\xcb\\xff\\xc4\\xff\\xc7\\xff\\xc6\\xff\\xc4\\xff\\xc7\\xff\\xc3\\xff\\xc9\\xff\\xc1\\xff\\xca\\xff\\xc1\\xff\\xca\\xff\\xbf\\xff\\xca\\xff\\xbd\\xff\\xca\\xff\\xba\\xff\\xc9\\xff\\xb6\\xff\\xc8\\xff\\xb3\\xff\\xc7\\xff\\xb0\\xff\\xc5\\xff\\xad\\xff\\xc5\\xff\\xac\\xff\\xc4\\xff\\xab\\xff\\xc4\\xff\\xac\\xff\\xc5\\xff\\xad\\xff\\xc7\\xff\\xae\\xff\\xc9\\xff\\xae\\xff\\xcb\\xff\\xae\\xff\\xce\\xff\\xac\\xff\\xd0\\xff\\xa8\\xff\\xd2\\xff\\xa4\\xff\\xd4\\xff\\x9e\\xff\\xd5\\xff\\x97\\xff\\xd5\\xff\\x8f\\xff\\xd4\\xff\\x88\\xff\\xd2\\xff\\x82\\xff\\xd0\\xff}\\xff\\xcc\\xff{\\xff\\xc9\\xff{\\xff\\xc5\\xff}\\xff\\xc1\\xff\\x82\\xff\\xbe\\xff\\x87\\xff\\xbb\\xff\\x8b\\xff\\xb9\\xff\\x8d\\xff\\xb6\\xff\\x8c\\xff\\xb4\\xff\\x87\\xff\\xb3\\xff\\x7f\\xff\\xb2\\xffu\\xff\\xb2\\xffm\\xff\\xb3\\xffi\\xff\\xb4\\xffj\\xff\\xb7\\xffr\\xff\\xb9\\xff~\\xff\\xbb\\xff\\x8c\\xff\\xbd\\xff\\x9c\\xff\\xbd\\xff\\xab\\xff\\xbd\\xff\\xb9\\xff\\xbd\\xff\\xc5\\xff\\xbc\\xff\\xcd\\xff\\xbc\\xff\\xcd\\xff\\xbc\\xff\\xc4\\xff\\xbd\\xff\\xae\\xff\\xbe\\xff\\x8f\\xff\\xc1\\xffo\\xff\\xc3\\xffU\\xff\\xc7\\xffJ\\xff\\xca\\xffR\\xff\\xce\\xffo\\xff\\xd2\\xff\\x9b\\xff\\xd6\\xff\\xcb\\xff\\xdb\\xff\\xf1\\xff\\xe0\\xff\\x00\\x00\\xe5\\xff\\xee\\xff\\xeb\\xff'\n"
     ]
    }
   ],
   "source": [
    "# Junk is 28\n",
    "with open('euclid.wav', 'r') as f:\n",
    "    print repr(f.read(500))    \n",
    "    "
   ]
  },
  {
   "cell_type": "code",
   "execution_count": 24,
   "metadata": {},
   "outputs": [
    {
     "data": {
      "text/plain": [
       "1"
      ]
     },
     "execution_count": 24,
     "metadata": {},
     "output_type": "execute_result"
    }
   ],
   "source": [
    "ord('\\x01')"
   ]
  },
  {
   "cell_type": "code",
   "execution_count": 13,
   "metadata": {},
   "outputs": [],
   "source": [
    "def interpret_hex_edit(s, size):\n",
    "    return sum(ord(s[i])*(256**i) for i in xrange(0,size))"
   ]
  },
  {
   "cell_type": "code",
   "execution_count": 14,
   "metadata": {},
   "outputs": [
    {
     "data": {
      "text/plain": [
       "541"
      ]
     },
     "execution_count": 14,
     "metadata": {},
     "output_type": "execute_result"
    }
   ],
   "source": [
    "interpret_hex_edit('\\x1d\\x02\\x00\\x00',4)"
   ]
  },
  {
   "cell_type": "code",
   "execution_count": 15,
   "metadata": {},
   "outputs": [
    {
     "data": {
      "text/plain": [
       "541"
      ]
     },
     "execution_count": 15,
     "metadata": {},
     "output_type": "execute_result"
    }
   ],
   "source": [
    "13+1*16+2*256"
   ]
  },
  {
   "cell_type": "code",
   "execution_count": 18,
   "metadata": {},
   "outputs": [
    {
     "name": "stdout",
     "output_type": "stream",
     "text": [
      "'RIFF'\n",
      "35478580\n",
      "'WAVE'\n"
     ]
    }
   ],
   "source": [
    "def interpret_hex(wav, size):\n",
    "    return sum(ord(wav.read(1))*(256**i) for i in xrange(0,size))\n",
    "\n",
    "with open('euclid.wav', 'r') as f:\n",
    "    print repr(f.read(4))\n",
    "    print interpret_hex(f, 4)\n",
    "    print repr(f.read(4))"
   ]
  },
  {
   "cell_type": "code",
   "execution_count": 43,
   "metadata": {},
   "outputs": [
    {
     "name": "stdout",
     "output_type": "stream",
     "text": [
      "'R'\n",
      "'I'\n",
      "'F'\n",
      "'F'\n",
      "'4'\n",
      "'\\\\'\n",
      "'\\x1d'\n",
      "'\\x02'\n",
      "'W'\n",
      "'A'\n",
      "'V'\n",
      "'E'\n"
     ]
    }
   ],
   "source": [
    "with open('euclid.wav', 'r') as f:\n",
    "    print repr(f.read(1))\n",
    "    print repr(f.read(1))\n",
    "    print repr(f.read(1))\n",
    "    print repr(f.read(1))\n",
    "    print repr(f.read(1))\n",
    "    print repr(f.read(1))\n",
    "    print repr(f.read(1))\n",
    "    print repr(f.read(1))\n",
    "    print repr(f.read(1))\n",
    "    print repr(f.read(1))\n",
    "    print repr(f.read(1))\n",
    "    print repr(f.read(1))\n",
    "    f.close()"
   ]
  },
  {
   "cell_type": "code",
   "execution_count": 29,
   "metadata": {},
   "outputs": [
    {
     "data": {
      "text/plain": [
       "35478580"
      ]
     },
     "execution_count": 29,
     "metadata": {},
     "output_type": "execute_result"
    }
   ],
   "source": [
    "52 + 92*256 + 29*256**2 + 2*256**3"
   ]
  },
  {
   "cell_type": "code",
   "execution_count": 28,
   "metadata": {},
   "outputs": [
    {
     "data": {
      "text/plain": [
       "52"
      ]
     },
     "execution_count": 28,
     "metadata": {},
     "output_type": "execute_result"
    }
   ],
   "source": [
    "ord('4')"
   ]
  },
  {
   "cell_type": "code",
   "execution_count": 8,
   "metadata": {},
   "outputs": [
    {
     "name": "stdout",
     "output_type": "stream",
     "text": [
      "'RIFF'\n",
      "35478580\n",
      "'WAVE'\n",
      "'JUNK'\n",
      "28\n",
      "'fmt '\n",
      "16\n",
      "1\n",
      "2\n",
      "44100\n",
      "176400\n",
      "4\n",
      "16\n",
      "'data'\n",
      "inja\n",
      "76\n",
      "35476048\n",
      "-----\n",
      "None\n",
      "'ResU'\n",
      "1766\n",
      "'cue '\n"
     ]
    }
   ],
   "source": [
    "\n",
    "def interpret_hex(wav, size):\n",
    "    return sum(ord(wav.read(1))*(256**i) for i in xrange(0,size))\n",
    "\n",
    "\n",
    "with open('euclid.wav', 'r') as f:\n",
    "    \n",
    "    print repr(f.read(4))\n",
    "    print repr(interpret_hex(f,4))\n",
    "    print repr(f.read(4))\n",
    "    print repr(f.read(4))\n",
    "    print repr(interpret_hex(f,4))\n",
    "    f.seek(28,1)\n",
    "    print repr(f.read(4))\n",
    "    print repr(interpret_hex(f,4))\n",
    "    print repr(interpret_hex(f,2))#Channel\n",
    "    print repr(interpret_hex(f,2))#Channel\n",
    "    print repr(interpret_hex(f,4))\n",
    "    print repr(interpret_hex(f,4))\n",
    "    print repr(interpret_hex(f,2))\n",
    "    print repr(interpret_hex(f,2))\n",
    "    print repr(f.read(4))\n",
    "    data_size = repr(interpret_hex(f,4))\n",
    "    print data_size\n",
    "    print f.seek(35476048,1)\n",
    "    print repr(f.read(4))\n",
    "    print repr(interpret_hex(f,4))\n",
    "    f.seek(1766,1)\n",
    "    print repr(f.read(4))"
   ]
  },
  {
   "cell_type": "code",
   "execution_count": null,
   "metadata": {},
   "outputs": [],
   "source": []
  },
  {
   "cell_type": "code",
   "execution_count": 1,
   "metadata": {},
   "outputs": [],
   "source": [
    "subchunk_size = 35476048\n",
    "with open('euclid.wav', 'r') as i_wav:\n",
    "    with open('euclid_edit.wav', 'w') as o_wav:\n",
    "        j=0\n",
    "        while j<80:\n",
    "            o_wav.write(i_wav.read(1))\n",
    "            j+=1\n",
    "        \n",
    "        o_wav.seek(subchunk_size/2,1)\n",
    "        \n",
    "        i = 0\n",
    "        while i<(subchunk_size/2):\n",
    "            o_wav.write(i_wav.read(2))\n",
    "            i_wav.seek((subchunk_size/2),1)\n",
    "            o_wav.seek(-(subchunk_size/2),1)\n",
    "            #temp = i_wav.read(2)\n",
    "            o_wav.write(i_wav.read(2))\n",
    "            i_wav.seek(-(subchunk_size/2),1)\n",
    "            o_wav.seek((subchunk_size/2),1)\n",
    "            i+=1\n",
    "         \n",
    "        o_wav.close()\n",
    "    i_wav.close()\n",
    "\n",
    "        "
   ]
  },
  {
   "cell_type": "code",
   "execution_count": 1,
   "metadata": {},
   "outputs": [],
   "source": [
    "subchunk_size = 35476048\n",
    "with open('euclid.wav', 'r') as i_wav:\n",
    "    with open('euclid_edit.wav', 'w') as o_wav:\n",
    "        j=0\n",
    "        while j<=80:\n",
    "            o_wav.write(i_wav.read(1))\n",
    "            j+=1\n",
    "        \n",
    "        i_wav.seek(subchunk_size/2,1)\n",
    "        \n",
    "        i = 0\n",
    "        while i<(subchunk_size/2):\n",
    "            o_wav.write(i_wav.read(2))\n",
    "            i+=1\n",
    "        i_wav.seek(-subchunk_size,1)\n",
    "        #o_wav.seek(-subchunk_size,1)\n",
    "        i=0\n",
    "        while i<(subchunk_size/2):\n",
    "            o_wav.write(i_wav.read(2))\n",
    "            i+=1\n",
    "         \n",
    "        o_wav.close()\n",
    "    i_wav.close()\n",
    "\n",
    "        "
   ]
  },
  {
   "cell_type": "code",
   "execution_count": 19,
   "metadata": {},
   "outputs": [],
   "source": [
    "#Latest version\n",
    "subchunk_size = 35476048\n",
    "with open('euclid.wav', 'r') as i_wav:\n",
    "    with open('euclid_edit.wav', 'w') as o_wav:\n",
    "#         temp = i_wav.read(80)\n",
    "#         print repr(temp)\n",
    "#         o_wav.write(temp)\n",
    "        o_wav.write(i_wav.read(76))\n",
    "        data_size = interpret_hex(i_wav,4)\n",
    "        i_wav.seek(-4,1)\n",
    "        o_wav.write(i_wav.read(4))\n",
    "#         temp = i_wav.read(12)\n",
    "#         o_wav.write(temp)\n",
    "#         i_wav.seek(36,1)\n",
    "#         temp = i_wav.read(32)\n",
    "#         o_wav.write(temp)\n",
    "            \n",
    "        for i in xrange(data_size/4):\n",
    "            left_sample = i_wav.read(2)\n",
    "            right_sample = i_wav.read(2)\n",
    "            o_wav.write(right_sample)\n",
    "            o_wav.write(left_sample)"
   ]
  },
  {
   "cell_type": "code",
   "execution_count": 15,
   "metadata": {},
   "outputs": [
    {
     "data": {
      "text/plain": [
       "82"
      ]
     },
     "execution_count": 15,
     "metadata": {},
     "output_type": "execute_result"
    }
   ],
   "source": [
    "ord(\"R\")"
   ]
  },
  {
   "cell_type": "code",
   "execution_count": 18,
   "metadata": {},
   "outputs": [
    {
     "name": "stdout",
     "output_type": "stream",
     "text": [
      "8869012\n"
     ]
    }
   ],
   "source": [
    "print 35476048/4"
   ]
  },
  {
   "cell_type": "code",
   "execution_count": 11,
   "metadata": {},
   "outputs": [],
   "source": [
    "#Latest version\n",
    "\n",
    "with open('euclid.wav', 'r') as i_wav:\n",
    "    with open('euclid_edit.wav', 'w') as o_wav:\n",
    "        o_wav.write(i_wav.read(3*4))\n",
    "        if i_wav.read(4) == 'JUNK':\n",
    "            junk_size = interpret_hex(i_wav,4)\n",
    "            i_wav.seek(junk_size,1)\n",
    "        \n",
    "        o_wav.write(i_wav.read(28))\n",
    "        data_size = interpret_hex(i_wav,4)\n",
    "        i_wav.seek(-4,1)\n",
    "        o_wav.write(i_wav.read(4))\n",
    "\n",
    "            \n",
    "        for i in xrange(data_size/4):\n",
    "            left_sample = i_wav.read(2)\n",
    "            right_sample = i_wav.read(2)\n",
    "            o_wav.write(right_sample)\n",
    "            o_wav.write(left_sample)"
   ]
  },
  {
   "cell_type": "code",
   "execution_count": null,
   "metadata": {},
   "outputs": [],
   "source": []
  }
 ],
 "metadata": {
  "kernelspec": {
   "display_name": "Python 2",
   "language": "python",
   "name": "python2"
  },
  "language_info": {
   "codemirror_mode": {
    "name": "ipython",
    "version": 2
   },
   "file_extension": ".py",
   "mimetype": "text/x-python",
   "name": "python",
   "nbconvert_exporter": "python",
   "pygments_lexer": "ipython2",
   "version": "2.7.15"
  }
 },
 "nbformat": 4,
 "nbformat_minor": 2
}
